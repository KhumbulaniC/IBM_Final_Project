{
    "cells": [
        {
            "cell_type": "markdown",
            "metadata": {},
            "source": "<p style=\"text-align:center\">\n    <a href=\"https://skills.network/?utm_medium=Exinfluencer&utm_source=Exinfluencer&utm_content=000026UJ&utm_term=10006555&utm_id=NA-SkillsNetwork-Channel-SkillsNetworkCoursesIBMDeveloperSkillsNetworkPY0221ENSkillsNetwork899-2023-01-01\">\n    <img src=\"https://cf-courses-data.s3.us.cloud-object-storage.appdomain.cloud/assets/logos/SN_web_lightmode.png\" width=\"200\" alt=\"Skills Network Logo\"  />\n    </a>\n</p>\n"
        },
        {
            "cell_type": "markdown",
            "metadata": {},
            "source": "# Peer Review Assignment - Data Engineer - ETL\n"
        },
        {
            "cell_type": "markdown",
            "metadata": {},
            "source": "Estimated time needed: **20** minutes\n"
        },
        {
            "cell_type": "markdown",
            "metadata": {},
            "source": "## Objectives\n\nIn this final part you will:\n\n- Run the ETL process\n- Extract bank and market cap data from the JSON file `bank_market_cap.json`\n- Transform the market cap currency using the exchange rate data\n- Load the transformed data into a seperate CSV\n"
        },
        {
            "cell_type": "markdown",
            "metadata": {},
            "source": "For this lab, we are going to be using Python and several Python libraries. Some of these libraries might be installed in your lab environment or in SN Labs. Others may need to be installed by you. The cells below will install these libraries when executed.\n"
        },
        {
            "cell_type": "code",
            "execution_count": 1,
            "metadata": {},
            "outputs": [],
            "source": "#!mamba install pandas==1.3.3 -y\n#!mamba install requests==2.26.0 -y"
        },
        {
            "cell_type": "markdown",
            "metadata": {},
            "source": "## Imports\n\nImport any additional libraries you may need here.\n"
        },
        {
            "cell_type": "code",
            "execution_count": 2,
            "metadata": {},
            "outputs": [],
            "source": "import glob\nimport pandas as pd\nfrom datetime import datetime"
        },
        {
            "cell_type": "markdown",
            "metadata": {},
            "source": "As the exchange rate fluctuates, we will download the same dataset to make marking simpler. This will be in the same format as the dataset you used in the last section  \n"
        },
        {
            "cell_type": "code",
            "execution_count": 3,
            "metadata": {},
            "outputs": [
                {
                    "name": "stdout",
                    "output_type": "stream",
                    "text": "--2024-05-23 20:50:56--  https://cf-courses-data.s3.us.cloud-object-storage.appdomain.cloud/IBMDeveloperSkillsNetwork-PY0221EN-SkillsNetwork/labs/module%206/Lab%20-%20Extract%20Transform%20Load/data/bank_market_cap_1.json\nResolving cf-courses-data.s3.us.cloud-object-storage.appdomain.cloud (cf-courses-data.s3.us.cloud-object-storage.appdomain.cloud)... 169.63.118.104\nConnecting to cf-courses-data.s3.us.cloud-object-storage.appdomain.cloud (cf-courses-data.s3.us.cloud-object-storage.appdomain.cloud)|169.63.118.104|:443... connected.\nHTTP request sent, awaiting response... 200 OK\nLength: 2815 (2.7K) [application/json]\nSaving to: \u2018bank_market_cap_1.json\u2019\n\nbank_market_cap_1.j 100%[===================>]   2.75K  --.-KB/s    in 0s      \n\n2024-05-23 20:50:56 (21.2 MB/s) - \u2018bank_market_cap_1.json\u2019 saved [2815/2815]\n\n--2024-05-23 20:50:58--  https://cf-courses-data.s3.us.cloud-object-storage.appdomain.cloud/IBMDeveloperSkillsNetwork-PY0221EN-SkillsNetwork/labs/module%206/Lab%20-%20Extract%20Transform%20Load/data/bank_market_cap_2.json\nResolving cf-courses-data.s3.us.cloud-object-storage.appdomain.cloud (cf-courses-data.s3.us.cloud-object-storage.appdomain.cloud)... 169.63.118.104\nConnecting to cf-courses-data.s3.us.cloud-object-storage.appdomain.cloud (cf-courses-data.s3.us.cloud-object-storage.appdomain.cloud)|169.63.118.104|:443... connected.\nHTTP request sent, awaiting response... 200 OK\nLength: 1429 (1.4K) [application/json]\nSaving to: \u2018bank_market_cap_2.json\u2019\n\nbank_market_cap_2.j 100%[===================>]   1.40K  --.-KB/s    in 0s      \n\n2024-05-23 20:50:58 (11.3 MB/s) - \u2018bank_market_cap_2.json\u2019 saved [1429/1429]\n\n--2024-05-23 20:51:00--  https://cf-courses-data.s3.us.cloud-object-storage.appdomain.cloud/IBMDeveloperSkillsNetwork-PY0221EN-SkillsNetwork/labs/module%206/Final%20Assignment/exchange_rates.csv\nResolving cf-courses-data.s3.us.cloud-object-storage.appdomain.cloud (cf-courses-data.s3.us.cloud-object-storage.appdomain.cloud)... 169.63.118.104\nConnecting to cf-courses-data.s3.us.cloud-object-storage.appdomain.cloud (cf-courses-data.s3.us.cloud-object-storage.appdomain.cloud)|169.63.118.104|:443... connected.\nHTTP request sent, awaiting response... 200 OK\nLength: 590 [text/csv]\nSaving to: \u2018exchange_rates.csv\u2019\n\nexchange_rates.csv  100%[===================>]     590  --.-KB/s    in 0.002s  \n\n2024-05-23 20:51:00 (293 KB/s) - \u2018exchange_rates.csv\u2019 saved [590/590]\n\n"
                }
            ],
            "source": "!wget https://cf-courses-data.s3.us.cloud-object-storage.appdomain.cloud/IBMDeveloperSkillsNetwork-PY0221EN-SkillsNetwork/labs/module%206/Lab%20-%20Extract%20Transform%20Load/data/bank_market_cap_1.json\n!wget https://cf-courses-data.s3.us.cloud-object-storage.appdomain.cloud/IBMDeveloperSkillsNetwork-PY0221EN-SkillsNetwork/labs/module%206/Lab%20-%20Extract%20Transform%20Load/data/bank_market_cap_2.json\n!wget https://cf-courses-data.s3.us.cloud-object-storage.appdomain.cloud/IBMDeveloperSkillsNetwork-PY0221EN-SkillsNetwork/labs/module%206/Final%20Assignment/exchange_rates.csv"
        },
        {
            "cell_type": "markdown",
            "metadata": {},
            "source": "## Extract\n"
        },
        {
            "cell_type": "markdown",
            "metadata": {},
            "source": "### JSON Extract Function\n\nThis function will extract JSON files.\n"
        },
        {
            "cell_type": "code",
            "execution_count": 155,
            "metadata": {},
            "outputs": [],
            "source": "def extract_from_json(file_to_process):\n    dataframe = pd.read_json(file_to_process)\n    return dataframe"
        },
        {
            "cell_type": "markdown",
            "metadata": {},
            "source": "## Extract Function\n\nDefine the extract function that finds JSON file `bank_market_cap_1.json` and calls the function created above to extract data from them. Store the data in a `pandas` dataframe. Use the following list for the columns.\n"
        },
        {
            "cell_type": "code",
            "execution_count": 156,
            "metadata": {},
            "outputs": [],
            "source": "columns=['Name','Market Cap (US$ Billion)']"
        },
        {
            "cell_type": "code",
            "execution_count": 157,
            "metadata": {},
            "outputs": [
                {
                    "name": "stdout",
                    "output_type": "stream",
                    "text": "                                       Name  Market Cap (US$ Billion)\n0                            JPMorgan Chase                   390.934\n1   Industrial and Commercial Bank of China                   345.214\n2                           Bank of America                   325.331\n3                               Wells Fargo                   308.013\n4                   China Construction Bank                   257.399\n..                                      ...                       ...\n65                             Ping An Bank                    37.993\n66                       Standard Chartered                    37.319\n67                     United Overseas Bank                    35.128\n68                                QNB Group                    33.560\n69                              Bank Rakyat                    33.081\n\n[70 rows x 2 columns]\n"
                },
                {
                    "name": "stderr",
                    "output_type": "stream",
                    "text": "/tmp/wsuser/ipykernel_162/1496153764.py:6: FutureWarning: The frame.append method is deprecated and will be removed from pandas in a future version. Use pandas.concat instead.\n  extracted_data = extracted_data.append(extract_from_json(jsonfile), ignore_index=True)\n"
                }
            ],
            "source": "def extract():\n    extracted_data = pd.DataFrame(columns=columns) # create an empty data frame\n    \n    #process all json files\n    for jsonfile in glob.glob(\"bank_market_cap_1.json\"):\n        extracted_data = extracted_data.append(extract_from_json(jsonfile), ignore_index=True)\n        \n    return extracted_data\n\n# Call the Extract function\nextracted_data = extract()\n\nprint(extracted_data)\n"
        },
        {
            "cell_type": "markdown",
            "metadata": {},
            "source": "<b>Question 1</b> Load the file <code>exchange_rates.csv</code> as a dataframe and find the exchange rate for British pounds with the symbol <code>GBP</code>, store it in the variable  <code>exchange_rate</code>, you will be asked for the number. Hint: set the parameter  <code>index_col</code> to 0.\n"
        },
        {
            "cell_type": "code",
            "execution_count": 158,
            "metadata": {},
            "outputs": [
                {
                    "name": "stdout",
                    "output_type": "stream",
                    "text": "0.7323984208000001\n"
                }
            ],
            "source": "# Code\nimport pandas as pd\n\n# Load the file 'exchange_rates.csv' into a DataFrame data\ndata = pd.read_csv('exchange_rates.csv', index_col=0)\n\n# Accessing the exchange rate for GBP directly\nexchange_rate = float(data.loc['GBP', 'Rates'])\n\nprint(exchange_rate)\n"
        },
        {
            "cell_type": "markdown",
            "metadata": {},
            "source": "## Transform\n\nUsing <code>exchange_rate</code> and the `exchange_rates.csv` file find the exchange rate of USD to GBP. Write a transform function that\n\n1. Changes the `Market Cap (US$ Billion)` column from USD to GBP\n2. Rounds the Market Cap (US$ Billion)` column to 3 decimal places\n3. Rename `Market Cap (US$ Billion)` to `Market Cap (GBP$ Billion)`\n"
        },
        {
            "cell_type": "code",
            "execution_count": 159,
            "metadata": {},
            "outputs": [],
            "source": "import pandas as pd\n\n# Load the exchange rates\nexchange_rates = pd.read_csv('exchange_rates.csv')\nexchange_rates = exchange_rates.rename(columns={'Unnamed: 0': 'Currency'})\n\n# Find the exchange rate from USD to GBP\nusd_to_gbp = exchange_rates.loc[exchange_rates['Currency'] == 'USD', 'Rates'].values[0] * exchange_rate\n\ndef transform(data):\n    # Convert Market Cap from USD to GBP\n    data['Market Cap (US$ Billion)'] = data['Market Cap (US$ Billion)'] * usd_to_gbp\n\n    # Round the Market Cap to 3 decimal places\n    data['Market Cap (US$ Billion)'] = data['Market Cap (US$ Billion)'].round(3)\n\n    # Rename the column\n    data = data.rename(columns={'Market Cap (US$ Billion)': 'Market Cap (GBP$ Billion)'})\n    \n    return data\n\n# Apply the transformation\nextracted_data = transform(extracted_data)\n"
        },
        {
            "cell_type": "markdown",
            "metadata": {},
            "source": "## Load\n\nCreate a function that takes a dataframe and load it to a csv named `bank_market_cap_gbp.csv`. Make sure to set `index` to `False`.\n"
        },
        {
            "cell_type": "code",
            "execution_count": 161,
            "metadata": {},
            "outputs": [],
            "source": "def load(df):\n    # Write the dataframe to a CSV file\n    df.to_csv('bank_market_cap_gbp.csv', index=False)\n"
        },
        {
            "cell_type": "markdown",
            "metadata": {},
            "source": "## Logging Function\n"
        },
        {
            "cell_type": "markdown",
            "metadata": {},
            "source": "Write the logging function <code>log</code> to log your data:\n"
        },
        {
            "cell_type": "code",
            "execution_count": 162,
            "metadata": {},
            "outputs": [],
            "source": "def log(message):\n    timestamp_format = '%Y-%h-%d-%H:%M:%S' # Year-Monthname-Day-Hour-Minute-Second\n    now = datetime.now() # get current timestamp\n    timestamp = now.strftime(timestamp_format)\n    with open(\"logfile.txt\",\"a\") as f:\n        f.write(timestamp + ',' + message + '\\n')"
        },
        {
            "cell_type": "markdown",
            "metadata": {},
            "source": "## Running the ETL Process\n"
        },
        {
            "cell_type": "markdown",
            "metadata": {},
            "source": "Log the process accordingly using the following <code>\"ETL Job Started\"</code> and <code>\"Extract phase Started\"</code>\n"
        },
        {
            "cell_type": "code",
            "execution_count": 163,
            "metadata": {},
            "outputs": [],
            "source": "log(\"ETL Job Started\")"
        },
        {
            "cell_type": "markdown",
            "metadata": {},
            "source": "### Extract\n"
        },
        {
            "cell_type": "markdown",
            "metadata": {},
            "source": "<code>Question 2</code> Use the function <code>extract</code>, and print the first 5 rows, take a screen shot:\n"
        },
        {
            "cell_type": "code",
            "execution_count": 164,
            "metadata": {},
            "outputs": [
                {
                    "name": "stdout",
                    "output_type": "stream",
                    "text": "                                      Name  Market Cap (US$ Billion)\n0                           JPMorgan Chase                   390.934\n1  Industrial and Commercial Bank of China                   345.214\n2                          Bank of America                   325.331\n3                              Wells Fargo                   308.013\n4                  China Construction Bank                   257.399\n"
                },
                {
                    "name": "stderr",
                    "output_type": "stream",
                    "text": "/tmp/wsuser/ipykernel_162/1496153764.py:6: FutureWarning: The frame.append method is deprecated and will be removed from pandas in a future version. Use pandas.concat instead.\n  extracted_data = extracted_data.append(extract_from_json(jsonfile), ignore_index=True)\n"
                }
            ],
            "source": "log(\"Extract phase Started\")\nextracted_data = extract()\nprint(extracted_data.head())"
        },
        {
            "cell_type": "markdown",
            "metadata": {},
            "source": "Log the data as <code>\"Extract phase Ended\"</code>\n"
        },
        {
            "cell_type": "code",
            "execution_count": 165,
            "metadata": {},
            "outputs": [],
            "source": "log(\"Extract phase Ended\")"
        },
        {
            "cell_type": "markdown",
            "metadata": {},
            "source": "### Transform\n"
        },
        {
            "cell_type": "markdown",
            "metadata": {},
            "source": "Log the following  <code>\"Transform phase Started\"</code>\n"
        },
        {
            "cell_type": "code",
            "execution_count": 166,
            "metadata": {},
            "outputs": [],
            "source": "log(\"Transform phase Started\")\n"
        },
        {
            "cell_type": "markdown",
            "metadata": {},
            "source": "<code>Question 3</code> Use the function <code>transform</code> and print the first 5 rows of the output, take a screen shot:\n"
        },
        {
            "cell_type": "code",
            "execution_count": 167,
            "metadata": {},
            "outputs": [
                {
                    "name": "stdout",
                    "output_type": "stream",
                    "text": "                                      Name  Market Cap (GBP$ Billion)\n0                           JPMorgan Chase                    286.319\n1  Industrial and Commercial Bank of China                    252.834\n2                          Bank of America                    238.272\n3                              Wells Fargo                    225.588\n4                  China Construction Bank                    188.519\n"
                }
            ],
            "source": "extracted_data = transform(extracted_data)\nprint(extracted_data.head())\n"
        },
        {
            "cell_type": "markdown",
            "metadata": {},
            "source": "Log your data <code>\"Transform phase Ended\"</code>\n"
        },
        {
            "cell_type": "code",
            "execution_count": 168,
            "metadata": {},
            "outputs": [],
            "source": "log(\"Transform phase Ended\")\n"
        },
        {
            "cell_type": "markdown",
            "metadata": {},
            "source": "### Load\n"
        },
        {
            "cell_type": "markdown",
            "metadata": {},
            "source": "Log the following `\"Load phase Started\"`.\n"
        },
        {
            "cell_type": "code",
            "execution_count": 169,
            "metadata": {},
            "outputs": [],
            "source": "log(\"Load phase Started\")\n"
        },
        {
            "cell_type": "markdown",
            "metadata": {},
            "source": "Call the load function\n"
        },
        {
            "cell_type": "code",
            "execution_count": 170,
            "metadata": {},
            "outputs": [],
            "source": "load(extracted_data)\n"
        },
        {
            "cell_type": "markdown",
            "metadata": {},
            "source": "Log the following `\"Load phase Ended\"`.\n"
        },
        {
            "cell_type": "code",
            "execution_count": 174,
            "metadata": {},
            "outputs": [],
            "source": "log(\"Load phase Ended\")\nlog(\"ETL Job Ended\")"
        },
        {
            "cell_type": "code",
            "execution_count": 175,
            "metadata": {},
            "outputs": [
                {
                    "name": "stdout",
                    "output_type": "stream",
                    "text": "2024-May-23-22:55:52,ETL Job Started\n2024-May-23-22:55:54,Extract phase Started\n2024-May-23-22:56:01,Extract phase Ended\n2024-May-23-22:56:02,Transform phase Started\n2024-May-23-22:56:05,Transform phase Ended\n2024-May-23-22:56:06,Load phase Started\n2024-May-23-22:56:08,Load phase Ended\n2024-May-23-23:01:35,ETL Job Ended\n\n"
                }
            ],
            "source": "def read_file(filename):\n    with open(filename, 'r') as file:\n        contents = file.read()\n    return contents\n\n# Use the function like this:\ncontents = read_file('logfile.txt')\nprint(contents)\n"
        },
        {
            "cell_type": "markdown",
            "metadata": {},
            "source": "## Authors\n"
        },
        {
            "cell_type": "markdown",
            "metadata": {},
            "source": "Ramesh Sannareddy, Joseph Santrcangelo and Azim Hirjani\n"
        },
        {
            "cell_type": "markdown",
            "metadata": {},
            "source": "### Other Contributors\n"
        },
        {
            "cell_type": "markdown",
            "metadata": {},
            "source": "Rav Ahuja\n"
        },
        {
            "cell_type": "markdown",
            "metadata": {},
            "source": "## Change Log\n"
        },
        {
            "cell_type": "markdown",
            "metadata": {},
            "source": "| Date (YYYY-MM-DD) | Version | Changed By        | Change Description                 |\n| ----------------- | ------- | ----------------- | ---------------------------------- |\n| 2020-11-25        | 0.1     | Ramesh Sannareddy | Created initial version of the lab |\n"
        },
        {
            "cell_type": "markdown",
            "metadata": {},
            "source": " Copyright \u00a9 2020 IBM Corporation. This notebook and its source code are released under the terms of the [MIT License](https://cognitiveclass.ai/mit-license?utm_medium=Exinfluencer&utm_source=Exinfluencer&utm_content=000026UJ&utm_term=10006555&utm_id=NA-SkillsNetwork-Channel-SkillsNetworkCoursesIBMDeveloperSkillsNetworkPY0221ENSkillsNetwork899-2023-01-01&cm_mmc=Email_Newsletter-_-Developer_Ed%2BTech-_-WW_WW-_-SkillsNetwork-Courses-IBM-DA0321EN-SkillsNetwork-21426264&cm_mmca1=000026UJ&cm_mmca2=10006555&cm_mmca3=M12345678&cvosrc=email.Newsletter.M12345678&cvo_campaign=000026UJ).\n"
        }
    ],
    "metadata": {
        "kernelspec": {
            "display_name": "Python 3.10",
            "language": "python",
            "name": "python3"
        },
        "language_info": {
            "codemirror_mode": {
                "name": "ipython",
                "version": 3
            },
            "file_extension": ".py",
            "mimetype": "text/x-python",
            "name": "python",
            "nbconvert_exporter": "python",
            "pygments_lexer": "ipython3",
            "version": "3.10.14"
        }
    },
    "nbformat": 4,
    "nbformat_minor": 4
}